{
 "cells": [
  {
   "cell_type": "markdown",
   "id": "bcbf5b78",
   "metadata": {},
   "source": [
    "Inheritance"
   ]
  },
  {
   "cell_type": "code",
   "execution_count": null,
   "id": "7d202716",
   "metadata": {},
   "outputs": [],
   "source": [
    "class Polygon:\n",
    "    __width=None\n",
    "    __height=None\n",
    "    \n",
    "    def set_values(self,width,height):\n",
    "        self.__width=width\n",
    "        self.__height=height\n",
    "        \n",
    "class Rectangle(Polygon):\n",
    "    def area(self):\n",
    "        return self.__width*self.__height\n",
    "\n",
    "class Triangle(Polygon):\n",
    "    def area(self):\n",
    "        return (self.__width*self.__height)/2\n",
    "    \n",
    "rec=Rectangle()\n",
    "tri=Triangle()\n",
    "rec.set_values()\n",
    "    "
   ]
  }
 ],
 "metadata": {
  "kernelspec": {
   "display_name": "Python 3 (ipykernel)",
   "language": "python",
   "name": "python3"
  },
  "language_info": {
   "codemirror_mode": {
    "name": "ipython",
    "version": 3
   },
   "file_extension": ".py",
   "mimetype": "text/x-python",
   "name": "python",
   "nbconvert_exporter": "python",
   "pygments_lexer": "ipython3",
   "version": "3.11.5"
  }
 },
 "nbformat": 4,
 "nbformat_minor": 5
}
