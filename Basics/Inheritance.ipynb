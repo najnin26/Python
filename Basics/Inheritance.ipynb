{
 "cells": [
  {
   "cell_type": "markdown",
   "id": "4bae1850",
   "metadata": {},
   "source": [
    "Inheritance"
   ]
  },
  {
   "cell_type": "code",
   "execution_count": 1,
   "id": "6410fd97",
   "metadata": {},
   "outputs": [
    {
     "ename": "AttributeError",
     "evalue": "'Triangle' object has no attribute '_Triangle__width'",
     "output_type": "error",
     "traceback": [
      "\u001b[1;31m---------------------------------------------------------------------------\u001b[0m",
      "\u001b[1;31mAttributeError\u001b[0m                            Traceback (most recent call last)",
      "Cell \u001b[1;32mIn[1], line 22\u001b[0m\n\u001b[0;32m     19\u001b[0m rec\u001b[38;5;241m.\u001b[39mset_values(\u001b[38;5;241m10\u001b[39m,\u001b[38;5;241m20\u001b[39m)\n\u001b[0;32m     20\u001b[0m tri\u001b[38;5;241m.\u001b[39mset_values(\u001b[38;5;241m10\u001b[39m,\u001b[38;5;241m20\u001b[39m)\n\u001b[1;32m---> 22\u001b[0m \u001b[38;5;28mprint\u001b[39m(tri\u001b[38;5;241m.\u001b[39marea())\n\u001b[0;32m     23\u001b[0m \u001b[38;5;28mprint\u001b[39m(rec\u001b[38;5;241m.\u001b[39marea())\n",
      "Cell \u001b[1;32mIn[1], line 15\u001b[0m, in \u001b[0;36mTriangle.area\u001b[1;34m(self)\u001b[0m\n\u001b[0;32m     14\u001b[0m \u001b[38;5;28;01mdef\u001b[39;00m \u001b[38;5;21marea\u001b[39m(\u001b[38;5;28mself\u001b[39m):\n\u001b[1;32m---> 15\u001b[0m     \u001b[38;5;28;01mreturn\u001b[39;00m (\u001b[38;5;28mself\u001b[39m\u001b[38;5;241m.\u001b[39m__width\u001b[38;5;241m*\u001b[39m\u001b[38;5;28mself\u001b[39m\u001b[38;5;241m.\u001b[39m__height)\u001b[38;5;241m/\u001b[39m\u001b[38;5;241m2\u001b[39m\n",
      "\u001b[1;31mAttributeError\u001b[0m: 'Triangle' object has no attribute '_Triangle__width'"
     ]
    }
   ],
   "source": [
    "class Polygon:\n",
    "    __width=None\n",
    "    __height=None\n",
    "    \n",
    "    def set_values(self,width,height):\n",
    "        self.__width=width\n",
    "        self.__height=height\n",
    "        \n",
    "    def get_width(self):\n",
    "        return self.__width\n",
    "    \n",
    "    def get_heigh\n",
    "class Rectangle(Polygon):\n",
    "    def area(self):\n",
    "        return self.__width*self.__height\n",
    "\n",
    "class Triangle(Polygon):\n",
    "    def area(self):\n",
    "        return (self.__width*self.__height)/2\n",
    "    \n",
    "rec=Rectangle()\n",
    "tri=Triangle()\n",
    "rec.set_values(10,20)\n",
    "tri.set_values(10,20)\n",
    "\n",
    "print(tri.area())\n",
    "print(rec.area())"
   ]
  },
  {
   "cell_type": "code",
   "execution_count": null,
   "id": "5bc11826",
   "metadata": {},
   "outputs": [],
   "source": []
  }
 ],
 "metadata": {
  "kernelspec": {
   "display_name": "Python 3 (ipykernel)",
   "language": "python",
   "name": "python3"
  },
  "language_info": {
   "codemirror_mode": {
    "name": "ipython",
    "version": 3
   },
   "file_extension": ".py",
   "mimetype": "text/x-python",
   "name": "python",
   "nbconvert_exporter": "python",
   "pygments_lexer": "ipython3",
   "version": "3.11.5"
  }
 },
 "nbformat": 4,
 "nbformat_minor": 5
}
