{
 "cells": [
  {
   "cell_type": "markdown",
   "id": "4ea56c9a",
   "metadata": {},
   "source": [
    "Inheritance"
   ]
  },
  {
   "cell_type": "code",
   "execution_count": 7,
   "id": "7e1f8331",
   "metadata": {},
   "outputs": [
    {
     "name": "stdout",
     "output_type": "stream",
     "text": [
      "1250.0\n",
      "2500\n"
     ]
    }
   ],
   "source": [
    "class Polygon:\n",
    "    __width=None\n",
    "    __height=None\n",
    "    \n",
    "    def set_values(self,width,height):\n",
    "        self.__width=width\n",
    "        self.__height=height\n",
    "        \n",
    "    def get_width(self):\n",
    "        return self.__width\n",
    "    \n",
    "    def get_height(self):\n",
    "        return self.__width\n",
    "    \n",
    "class Rectangle(Polygon):\n",
    "    def area(self):\n",
    "        return self.get_height()*self.get_width()\n",
    "\n",
    "class Triangle(Polygon):\n",
    "    def area(self):\n",
    "        return self.get_height()*self.get_width()/2\n",
    "    \n",
    "rec=Rectangle()\n",
    "tri=Triangle()\n",
    "rec.set_values(50,10)\n",
    "tri.set_values(50,10)\n",
    "\n",
    "print(tri.area())\n",
    "print(rec.area())"
   ]
  },
  {
   "cell_type": "code",
   "execution_count": null,
   "id": "ee3fd65d",
   "metadata": {},
   "outputs": [],
   "source": []
  }
 ],
 "metadata": {
  "kernelspec": {
   "display_name": "Python 3 (ipykernel)",
   "language": "python",
   "name": "python3"
  },
  "language_info": {
   "codemirror_mode": {
    "name": "ipython",
    "version": 3
   },
   "file_extension": ".py",
   "mimetype": "text/x-python",
   "name": "python",
   "nbconvert_exporter": "python",
   "pygments_lexer": "ipython3",
   "version": "3.11.5"
  }
 },
 "nbformat": 4,
 "nbformat_minor": 5
}
