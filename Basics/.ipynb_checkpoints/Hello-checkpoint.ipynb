{
 "cells": [
  {
   "cell_type": "code",
   "execution_count": 4,
   "id": "ba4ef9a1",
   "metadata": {},
   "outputs": [
    {
     "name": "stdout",
     "output_type": "stream",
     "text": [
      "10\n",
      "20\n",
      "30\n",
      "10\n",
      "Public method\n",
      "private\n"
     ]
    }
   ],
   "source": [
    "class Hello:\n",
    "    def __init__(self,name):\n",
    "        self.a=10\n",
    "        self._b=20\n",
    "        self.__c=30\n",
    "        \n",
    "    def public_method(self):\n",
    "        print(self.__c)\n",
    "        print(self.a)\n",
    "        print(\"Public method\")\n",
    "        self.__private_method()\n",
    "\n",
    "    def __private_method(self):\n",
    "        print(\"private\")\n",
    "    \n",
    "hello=Hello('name')\n",
    "print(hello.a)\n",
    "print(hello._b)\n",
    "hello.public_method()\n",
    "# print(hello.__c)"
   ]
  },
  {
   "cell_type": "markdown",
   "id": "f68f4968",
   "metadata": {},
   "source": [
    "# Python Abstract Classes"
   ]
  },
  {
   "cell_type": "code",
   "execution_count": 5,
   "id": "5f43b57d",
   "metadata": {},
   "outputs": [
    {
     "name": "stdout",
     "output_type": "stream",
     "text": [
      "25\n",
      "20\n"
     ]
    }
   ],
   "source": [
    "from abc import ABC,abstractmethod\n",
    "\n",
    "class Shape(ABC):\n",
    "    @abstractmethod\n",
    "    def area(self):pass\n",
    "    @abstractmethod\n",
    "    def perimeter(self):pass\n",
    "class Square(Shape):\n",
    "    def __init__(self,side):\n",
    "        self.__side=side\n",
    "    def area(self):\n",
    "        return self.__side*self.__side\n",
    "    def perimeter(self):\n",
    "        return 4*self.__side\n",
    "        \n",
    "square=Square(5)\n",
    "print(square.area())\n",
    "print(square.perimeter())"
   ]
  },
  {
   "cell_type": "markdown",
   "id": "c94e5851",
   "metadata": {},
   "source": [
    "#  Python Exception handling + Python Try Except"
   ]
  },
  {
   "cell_type": "code",
   "execution_count": 2,
   "id": "60a6fcbe",
   "metadata": {
    "scrolled": true
   },
   "outputs": [
    {
     "name": "stdout",
     "output_type": "stream",
     "text": [
      "Enter 1st number :10\n",
      "Enter 2nd number :0\n",
      "Error :  <class 'ZeroDivisionError'>\n",
      "Error :  division by zero\n",
      "__finally__\n"
     ]
    }
   ],
   "source": [
    "a=int(input(\"Enter 1st number :\"))\n",
    "b=int(input(\"Enter 2nd number :\"))\n",
    "\n",
    "try:\n",
    "    result=a/b\n",
    "    print(\"Result : \",result)\n",
    "except ZeroDivisionError as e:\n",
    "    print(\"Error : \",type(e))\n",
    "    print(\"Error : \",e)\n",
    "except TypeError as e:\n",
    "    print(\"Error : \",type(e))\n",
    "    print(\"Error : \",e)\n",
    "else:\n",
    "    print(\"__else__\")\n",
    "finally:\n",
    "    print(\"__finally__\")"
   ]
  },
  {
   "cell_type": "markdown",
   "id": "ed01fdeb",
   "metadata": {},
   "source": [
    "# Raising Exceptions In Python"
   ]
  },
  {
   "cell_type": "code",
   "execution_count": 9,
   "id": "5c56b665",
   "metadata": {},
   "outputs": [
    {
     "ename": "ValueError",
     "evalue": "Coffee Too Cold",
     "output_type": "error",
     "traceback": [
      "\u001b[1;31m---------------------------------------------------------------------------\u001b[0m",
      "\u001b[1;31mValueError\u001b[0m                                Traceback (most recent call last)",
      "Cell \u001b[1;32mIn[9], line 16\u001b[0m\n\u001b[0;32m     13\u001b[0m             \u001b[38;5;28mprint\u001b[39m(\u001b[38;5;124m\"\u001b[39m\u001b[38;5;124mCoffee Ok to Drink\u001b[39m\u001b[38;5;124m\"\u001b[39m)\n\u001b[0;32m     15\u001b[0m cup\u001b[38;5;241m=\u001b[39mCoffeeCup(\u001b[38;5;241m10\u001b[39m)\n\u001b[1;32m---> 16\u001b[0m cup\u001b[38;5;241m.\u001b[39mdrink_coffee()\n",
      "Cell \u001b[1;32mIn[9], line 11\u001b[0m, in \u001b[0;36mCoffeeCup.drink_coffee\u001b[1;34m(self)\u001b[0m\n\u001b[0;32m      8\u001b[0m         \u001b[38;5;28;01mraise\u001b[39;00m \u001b[38;5;167;01mException\u001b[39;00m(\u001b[38;5;124m\"\u001b[39m\u001b[38;5;124mCoffee Too Hot\u001b[39m\u001b[38;5;124m\"\u001b[39m)\n\u001b[0;32m      9\u001b[0m \u001b[38;5;28;01melif\u001b[39;00m \u001b[38;5;28mself\u001b[39m\u001b[38;5;241m.\u001b[39m__tem \u001b[38;5;241m<\u001b[39m\u001b[38;5;241m65\u001b[39m:\n\u001b[0;32m     10\u001b[0m         \u001b[38;5;66;03m#print(\"Coffee Too Cold\")\u001b[39;00m\n\u001b[1;32m---> 11\u001b[0m         \u001b[38;5;28;01mraise\u001b[39;00m \u001b[38;5;167;01mValueError\u001b[39;00m(\u001b[38;5;124m\"\u001b[39m\u001b[38;5;124mCoffee Too Cold\u001b[39m\u001b[38;5;124m\"\u001b[39m)\n\u001b[0;32m     12\u001b[0m \u001b[38;5;28;01melse\u001b[39;00m:\n\u001b[0;32m     13\u001b[0m     \u001b[38;5;28mprint\u001b[39m(\u001b[38;5;124m\"\u001b[39m\u001b[38;5;124mCoffee Ok to Drink\u001b[39m\u001b[38;5;124m\"\u001b[39m)\n",
      "\u001b[1;31mValueError\u001b[0m: Coffee Too Cold"
     ]
    }
   ],
   "source": [
    "class CoffeeCup:\n",
    "    def __init__(self,tem):\n",
    "        self.__tem=tem\n",
    "    \n",
    "    def drink_coffee(self):\n",
    "        if self.__tem >85:\n",
    "                #print(\"Coffee Too Hot\")\n",
    "                raise Exception(\"Coffee Too Hot\")\n",
    "        elif self.__tem <65:\n",
    "                #print(\"Coffee Too Cold\")\n",
    "                raise ValueError(\"Coffee Too Cold\")\n",
    "        else:\n",
    "            print(\"Coffee Ok to Drink\")\n",
    "            \n",
    "cup=CoffeeCup(10)\n",
    "cup.drink_coffee()"
   ]
  },
  {
   "cell_type": "markdown",
   "id": "79b5ba10",
   "metadata": {},
   "source": [
    "# Raising Custom Exceptions"
   ]
  },
  {
   "cell_type": "code",
   "execution_count": 16,
   "id": "775edfac",
   "metadata": {},
   "outputs": [
    {
     "ename": "CoffeeTooHotException",
     "evalue": "Coffee Too Hot: 101",
     "output_type": "error",
     "traceback": [
      "\u001b[1;31m---------------------------------------------------------------------------\u001b[0m",
      "\u001b[1;31mCoffeeTooHotException\u001b[0m                     Traceback (most recent call last)",
      "Cell \u001b[1;32mIn[16], line 22\u001b[0m\n\u001b[0;32m     19\u001b[0m             \u001b[38;5;28mprint\u001b[39m(\u001b[38;5;124m\"\u001b[39m\u001b[38;5;124mCoffee Ok to Drink\u001b[39m\u001b[38;5;124m\"\u001b[39m)\n\u001b[0;32m     21\u001b[0m cup \u001b[38;5;241m=\u001b[39m CoffeeCup(\u001b[38;5;241m101\u001b[39m)\n\u001b[1;32m---> 22\u001b[0m cup\u001b[38;5;241m.\u001b[39mdrink_coffee()\n",
      "Cell \u001b[1;32mIn[16], line 15\u001b[0m, in \u001b[0;36mCoffeeCup.drink_coffee\u001b[1;34m(self)\u001b[0m\n\u001b[0;32m     13\u001b[0m \u001b[38;5;28;01mdef\u001b[39;00m \u001b[38;5;21mdrink_coffee\u001b[39m(\u001b[38;5;28mself\u001b[39m):\n\u001b[0;32m     14\u001b[0m     \u001b[38;5;28;01mif\u001b[39;00m \u001b[38;5;28mself\u001b[39m\u001b[38;5;241m.\u001b[39m__tem \u001b[38;5;241m>\u001b[39m \u001b[38;5;241m85\u001b[39m:\n\u001b[1;32m---> 15\u001b[0m         \u001b[38;5;28;01mraise\u001b[39;00m CoffeeTooHotException(\u001b[38;5;124m'\u001b[39m\u001b[38;5;124mCoffee Too Hot: \u001b[39m\u001b[38;5;124m'\u001b[39m \u001b[38;5;241m+\u001b[39m \u001b[38;5;28mstr\u001b[39m(\u001b[38;5;28mself\u001b[39m\u001b[38;5;241m.\u001b[39m__tem))\n\u001b[0;32m     16\u001b[0m     \u001b[38;5;28;01melif\u001b[39;00m \u001b[38;5;28mself\u001b[39m\u001b[38;5;241m.\u001b[39m__tem \u001b[38;5;241m<\u001b[39m \u001b[38;5;241m65\u001b[39m:\n\u001b[0;32m     17\u001b[0m         \u001b[38;5;28;01mraise\u001b[39;00m CoffeeTooColdException(\u001b[38;5;124m'\u001b[39m\u001b[38;5;124mCoffee Too Cold: \u001b[39m\u001b[38;5;124m'\u001b[39m \u001b[38;5;241m+\u001b[39m \u001b[38;5;28mstr\u001b[39m(\u001b[38;5;28mself\u001b[39m\u001b[38;5;241m.\u001b[39m__tem))\n",
      "\u001b[1;31mCoffeeTooHotException\u001b[0m: Coffee Too Hot: 101"
     ]
    }
   ],
   "source": [
    "class CoffeeTooHotException(Exception):\n",
    "    def __init__(self, msg):\n",
    "        super().__init__(msg)\n",
    "\n",
    "class CoffeeTooColdException(Exception):\n",
    "    def __init__(self, msg):\n",
    "        super().__init__(msg)\n",
    "\n",
    "class CoffeeCup:\n",
    "    def __init__(self, tem):\n",
    "        self.__tem = tem\n",
    "    \n",
    "    def drink_coffee(self):\n",
    "        if self.__tem > 85:\n",
    "            raise CoffeeTooHotException('Coffee Too Hot: ' + str(self.__tem))\n",
    "        elif self.__tem < 65:\n",
    "            raise CoffeeTooColdException('Coffee Too Cold: ' + str(self.__tem))\n",
    "        else:\n",
    "            print(\"Coffee Ok to Drink\")\n",
    "            \n",
    "cup = CoffeeCup(101)\n",
    "cup.drink_coffee()\n"
   ]
  },
  {
   "cell_type": "code",
   "execution_count": null,
   "id": "f4076481",
   "metadata": {},
   "outputs": [],
   "source": []
  }
 ],
 "metadata": {
  "kernelspec": {
   "display_name": "Python 3 (ipykernel)",
   "language": "python",
   "name": "python3"
  },
  "language_info": {
   "codemirror_mode": {
    "name": "ipython",
    "version": 3
   },
   "file_extension": ".py",
   "mimetype": "text/x-python",
   "name": "python",
   "nbconvert_exporter": "python",
   "pygments_lexer": "ipython3",
   "version": "3.11.5"
  }
 },
 "nbformat": 4,
 "nbformat_minor": 5
}
