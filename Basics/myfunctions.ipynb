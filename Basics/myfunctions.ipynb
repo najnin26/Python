{
 "cells": [
  {
   "cell_type": "markdown",
   "id": "e22a98d5",
   "metadata": {},
   "source": [
    "# Multiple Inheritance"
   ]
  },
  {
   "cell_type": "code",
   "execution_count": 2,
   "id": "4daa1903",
   "metadata": {},
   "outputs": [
    {
     "name": "stdout",
     "output_type": "stream",
     "text": [
      "Child__init__\n",
      "Parent__init__ Max\n",
      "Parent2__init__ Tom\n",
      "(<class '__main__.Child'>, <class '__main__.Parent'>, <class '__main__.Parent2'>, <class 'object'>)\n"
     ]
    }
   ],
   "source": [
    "class Parent:\n",
    "    def __init__(self,name):\n",
    "        print(\"Parent__init__\",name)\n",
    "class Parent2:\n",
    "    def __init__(self,name):\n",
    "        print(\"Parent2__init__\",name)\n",
    "class Child(Parent,Parent2):\n",
    "    def __init__(self):\n",
    "        print(\"Child__init__\")\n",
    "        Parent.__init__(self,\"Max\")\n",
    "        Parent2.__init__(self,\"Tom\")\n",
    "        \n",
    "ch=Child()\n",
    "print(Child.__mro__)"
   ]
  },
  {
   "cell_type": "markdown",
   "id": "82565c5d",
   "metadata": {},
   "source": [
    "# Class Composition"
   ]
  },
  {
   "cell_type": "code",
   "execution_count": 3,
   "id": "3aaae0cb",
   "metadata": {},
   "outputs": [
    {
     "name": "stdout",
     "output_type": "stream",
     "text": [
      "190000\n"
     ]
    }
   ],
   "source": [
    "class Salary:\n",
    "    def __init__(self,pay,bonus):\n",
    "        self.pay=pay\n",
    "        self.bonus=bonus\n",
    "    def annual_salary(self):\n",
    "        return (self.pay*12)+self.bonus\n",
    "class Employee:\n",
    "    def __init__(self,name,age,pay,bonus):\n",
    "        self.name=name\n",
    "        self.age=age\n",
    "        self.obj_salary=Salary(pay,bonus)\n",
    "        \n",
    "    def total_salary(self):\n",
    "        return self.obj_salary.annual_salary()\n",
    "\n",
    "emp=Employee(\"Max\",25,15000,10000)\n",
    "print(emp.total_salary())\n"
   ]
  },
  {
   "cell_type": "markdown",
   "id": "6b9d9efd",
   "metadata": {},
   "source": [
    "# Python Aggregation "
   ]
  },
  {
   "cell_type": "code",
   "execution_count": 5,
   "id": "919affc5",
   "metadata": {},
   "outputs": [
    {
     "name": "stdout",
     "output_type": "stream",
     "text": [
      "190000\n"
     ]
    }
   ],
   "source": [
    "class Salary:\n",
    "    def __init__(self,pay,bonus):\n",
    "        self.pay=pay\n",
    "        self.bonus=bonus\n",
    "    def annual_salary(self):\n",
    "        return (self.pay*12)+self.bonus\n",
    "class Employee:\n",
    "    def __init__(self,name,age,salary):\n",
    "        self.name=name\n",
    "        self.age=age\n",
    "        self.obj_salary=salary\n",
    "        \n",
    "    def total_salary(self):\n",
    "        return self.obj_salary.annual_salary()\n",
    "\n",
    "    \n",
    "salary=Salary(15000,10000)\n",
    "emp=Employee(\"Max\",25,salary)\n",
    "print(emp.total_salary())\n"
   ]
  },
  {
   "cell_type": "code",
   "execution_count": null,
   "id": "d7a7dc7f",
   "metadata": {},
   "outputs": [],
   "source": []
  }
 ],
 "metadata": {
  "kernelspec": {
   "display_name": "Python 3 (ipykernel)",
   "language": "python",
   "name": "python3"
  },
  "language_info": {
   "codemirror_mode": {
    "name": "ipython",
    "version": 3
   },
   "file_extension": ".py",
   "mimetype": "text/x-python",
   "name": "python",
   "nbconvert_exporter": "python",
   "pygments_lexer": "ipython3",
   "version": "3.11.5"
  }
 },
 "nbformat": 4,
 "nbformat_minor": 5
}
