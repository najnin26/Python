{
 "cells": [
  {
   "cell_type": "code",
   "execution_count": 8,
   "id": "4daa1903",
   "metadata": {},
   "outputs": [
    {
     "name": "stdout",
     "output_type": "stream",
     "text": [
      "Child__init__\n",
      "Parent__init__ Max\n",
      "Parent2__init__ Tom\n",
      "(<class '__main__.Child'>, <class '__main__.Parent'>, <class '__main__.Parent2'>, <class 'object'>)\n"
     ]
    }
   ],
   "source": [
    "class Parent:\n",
    "    def __init__(self,name):\n",
    "        print(\"Parent__init__\",name)\n",
    "class Parent2:\n",
    "    def __init__(self,name):\n",
    "        print(\"Parent2__init__\",name)\n",
    "class Child(Parent,Parent2):\n",
    "    def __init__(self):\n",
    "        print(\"Child__init__\")\n",
    "        Parent.__init__(self,\"Max\")\n",
    "        Parent2.__init__(self,\"Tom\")\n",
    "        \n",
    "ch=Child()\n",
    "print(Child.__mro__)"
   ]
  },
  {
   "cell_type": "code",
   "execution_count": null,
   "id": "3aaae0cb",
   "metadata": {},
   "outputs": [],
   "source": []
  }
 ],
 "metadata": {
  "kernelspec": {
   "display_name": "Python 3 (ipykernel)",
   "language": "python",
   "name": "python3"
  },
  "language_info": {
   "codemirror_mode": {
    "name": "ipython",
    "version": 3
   },
   "file_extension": ".py",
   "mimetype": "text/x-python",
   "name": "python",
   "nbconvert_exporter": "python",
   "pygments_lexer": "ipython3",
   "version": "3.11.5"
  }
 },
 "nbformat": 4,
 "nbformat_minor": 5
}
