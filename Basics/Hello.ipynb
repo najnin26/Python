{
 "cells": [
  {
   "cell_type": "code",
   "execution_count": 2,
   "id": "ba4ef9a1",
   "metadata": {},
   "outputs": [
    {
     "name": "stdout",
     "output_type": "stream",
     "text": [
      "10\n",
      "20\n"
     ]
    },
    {
     "ename": "AttributeError",
     "evalue": "'Hello' object has no attribute '__c'",
     "output_type": "error",
     "traceback": [
      "\u001b[1;31m---------------------------------------------------------------------------\u001b[0m",
      "\u001b[1;31mAttributeError\u001b[0m                            Traceback (most recent call last)",
      "Cell \u001b[1;32mIn[2], line 11\u001b[0m\n\u001b[0;32m      9\u001b[0m \u001b[38;5;28mprint\u001b[39m(hello\u001b[38;5;241m.\u001b[39ma)\n\u001b[0;32m     10\u001b[0m \u001b[38;5;28mprint\u001b[39m(hello\u001b[38;5;241m.\u001b[39m_b)\n\u001b[1;32m---> 11\u001b[0m \u001b[38;5;28mprint\u001b[39m(hello\u001b[38;5;241m.\u001b[39m__c)\n",
      "\u001b[1;31mAttributeError\u001b[0m: 'Hello' object has no attribute '__c'"
     ]
    }
   ],
   "source": [
    "class Hello:\n",
    "    def __init__(self,name):\n",
    "        self.a=10\n",
    "        self._b=20\n",
    "        self.__c=30\n",
    "        \n",
    "    \n",
    "hello=Hello('name')\n",
    "print(hello.a)\n",
    "print(hello._b)\n",
    "print(hello.__c)"
   ]
  },
  {
   "cell_type": "code",
   "execution_count": null,
   "id": "3bc383fa",
   "metadata": {},
   "outputs": [],
   "source": []
  }
 ],
 "metadata": {
  "kernelspec": {
   "display_name": "Python 3 (ipykernel)",
   "language": "python",
   "name": "python3"
  },
  "language_info": {
   "codemirror_mode": {
    "name": "ipython",
    "version": 3
   },
   "file_extension": ".py",
   "mimetype": "text/x-python",
   "name": "python",
   "nbconvert_exporter": "python",
   "pygments_lexer": "ipython3",
   "version": "3.11.5"
  }
 },
 "nbformat": 4,
 "nbformat_minor": 5
}
