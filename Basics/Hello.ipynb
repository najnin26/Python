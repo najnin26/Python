{
 "cells": [
  {
   "cell_type": "code",
   "execution_count": 4,
   "id": "ba4ef9a1",
   "metadata": {},
   "outputs": [
    {
     "name": "stdout",
     "output_type": "stream",
     "text": [
      "10\n",
      "20\n",
      "30\n",
      "10\n",
      "Public method\n",
      "private\n"
     ]
    }
   ],
   "source": [
    "class Hello:\n",
    "    def __init__(self,name):\n",
    "        self.a=10\n",
    "        self._b=20\n",
    "        self.__c=30\n",
    "        \n",
    "    def public_method(self):\n",
    "        print(self.__c)\n",
    "        print(self.a)\n",
    "        print(\"Public method\")\n",
    "        self.__private_method()\n",
    "\n",
    "    def __private_method(self):\n",
    "        print(\"private\")\n",
    "    \n",
    "hello=Hello('name')\n",
    "print(hello.a)\n",
    "print(hello._b)\n",
    "hello.public_method()\n",
    "# print(hello.__c)"
   ]
  },
  {
   "cell_type": "markdown",
   "id": "a5648494",
   "metadata": {},
   "source": [
    "# Python Abstract Classes"
   ]
  },
  {
   "cell_type": "code",
   "execution_count": 5,
   "id": "5f43b57d",
   "metadata": {},
   "outputs": [
    {
     "name": "stdout",
     "output_type": "stream",
     "text": [
      "25\n",
      "20\n"
     ]
    }
   ],
   "source": [
    "from abc import ABC,abstractmethod\n",
    "\n",
    "class Shape(ABC):\n",
    "    @abstractmethod\n",
    "    def area(self):pass\n",
    "    @abstractmethod\n",
    "    def perimeter(self):pass\n",
    "class Square(Shape):\n",
    "    def __init__(self,side):\n",
    "        self.__side=side\n",
    "    def area(self):\n",
    "        return self.__side*self.__side\n",
    "    def perimeter(self):\n",
    "        return 4*self.__side\n",
    "        \n",
    "square=Square(5)\n",
    "print(square.area())\n",
    "print(square.perimeter())"
   ]
  },
  {
   "cell_type": "code",
   "execution_count": null,
   "id": "a3885638",
   "metadata": {},
   "outputs": [],
   "source": []
  }
 ],
 "metadata": {
  "kernelspec": {
   "display_name": "Python 3 (ipykernel)",
   "language": "python",
   "name": "python3"
  },
  "language_info": {
   "codemirror_mode": {
    "name": "ipython",
    "version": 3
   },
   "file_extension": ".py",
   "mimetype": "text/x-python",
   "name": "python",
   "nbconvert_exporter": "python",
   "pygments_lexer": "ipython3",
   "version": "3.11.5"
  }
 },
 "nbformat": 4,
 "nbformat_minor": 5
}
