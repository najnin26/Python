{
 "cells": [
  {
   "cell_type": "markdown",
   "id": "233b384b",
   "metadata": {},
   "source": [
    "#  Create a Text File and Write in It Using Python"
   ]
  },
  {
   "cell_type": "code",
   "execution_count": 5,
   "id": "d0c27924",
   "metadata": {},
   "outputs": [],
   "source": [
    "fh=open(\"demo.txt\",\"a\")\n",
    "fh.write(\"Hi!\")\n",
    "fh.close()"
   ]
  },
  {
   "cell_type": "code",
   "execution_count": 6,
   "id": "dfd8e56c",
   "metadata": {},
   "outputs": [],
   "source": [
    "fh=open(\"demo.txt\",\"a\")\n",
    "for i in range(10):\n",
    "    fh.write(\"This is line number %d\\n\"%i)\n",
    "fh.close()"
   ]
  },
  {
   "cell_type": "markdown",
   "id": "c5f7a41a",
   "metadata": {},
   "source": [
    "# Use try-finally"
   ]
  },
  {
   "cell_type": "code",
   "execution_count": 8,
   "id": "8095b2a9",
   "metadata": {},
   "outputs": [],
   "source": [
    "fh=open(\"demo.txt\",\"a\")\n",
    "try:\n",
    "    for i in range(10):\n",
    "        fh.write(\"This is line number %d\\n\"%i)\n",
    "finally:\n",
    "    fh.close()"
   ]
  },
  {
   "cell_type": "markdown",
   "id": "119d56f4",
   "metadata": {},
   "source": [
    "# Short form"
   ]
  },
  {
   "cell_type": "code",
   "execution_count": 10,
   "id": "20610d80",
   "metadata": {},
   "outputs": [],
   "source": [
    "with open(\"demo1.txt\",\"w\") as fh:\n",
    "    for i in range(10):\n",
    "        fh.write(\"This is line number %d\\n\"%(i+1))\n"
   ]
  },
  {
   "cell_type": "markdown",
   "id": "0a645795",
   "metadata": {},
   "source": [
    "# Reading Files in Python"
   ]
  },
  {
   "cell_type": "code",
   "execution_count": 3,
   "id": "acf2b256",
   "metadata": {},
   "outputs": [
    {
     "name": "stdout",
     "output_type": "stream",
     "text": [
      "This is line number 0\n",
      "This is line number 1\n",
      "This is line number 2\n",
      "This is line number 3\n",
      "This is line number 4\n",
      "This is line number 5\n",
      "This is line number 6\n",
      "This is line number 7\n",
      "This is line number 8\n",
      "This is line number 9\n",
      "This is line number 0\n",
      "This is line number 1\n",
      "This is line number 2\n",
      "This is line number 3\n",
      "This is line number 4\n",
      "This is line number 5\n",
      "This is line number 6\n",
      "This is line number 7\n",
      "This is line number 8\n",
      "This is line number 9\n",
      "Hi!This is line number 0\n",
      "This is line number 1\n",
      "This is line number 2\n",
      "This is line number 3\n",
      "This is line number 4\n",
      "This is line number 5\n",
      "This is line number 6\n",
      "This is line number 7\n",
      "This is line number 8\n",
      "This is line number 9\n",
      "This is line number 0\n",
      "This is line number 1\n",
      "This is line number 2\n",
      "This is line number 3\n",
      "This is line number 4\n",
      "This is line number 5\n",
      "This is line number 6\n",
      "This is line number 7\n",
      "This is line number 8\n",
      "This is line number 9\n",
      "\n"
     ]
    }
   ],
   "source": [
    "fh=open(\"demo.txt\",\"r\")\n",
    "print(fh.read())\n",
    "\n",
    "fh.close()"
   ]
  },
  {
   "cell_type": "markdown",
   "id": "ae985bb9",
   "metadata": {},
   "source": [
    "# Read first few characters"
   ]
  },
  {
   "cell_type": "code",
   "execution_count": 4,
   "id": "2e96229c",
   "metadata": {},
   "outputs": [
    {
     "name": "stdout",
     "output_type": "stream",
     "text": [
      "This\n"
     ]
    }
   ],
   "source": [
    "fh=open(\"demo.txt\",\"r\")\n",
    "print(fh.read(4))\n",
    "\n",
    "fh.close()"
   ]
  },
  {
   "cell_type": "markdown",
   "id": "b387d2cb",
   "metadata": {},
   "source": [
    "# Read first line"
   ]
  },
  {
   "cell_type": "code",
   "execution_count": 5,
   "id": "4e35e2ca",
   "metadata": {},
   "outputs": [
    {
     "name": "stdout",
     "output_type": "stream",
     "text": [
      "This is line number 0\n",
      "\n"
     ]
    }
   ],
   "source": [
    "fh=open(\"demo.txt\",\"r\")\n",
    "print(fh.readline())\n",
    "\n",
    "fh.close()"
   ]
  },
  {
   "cell_type": "markdown",
   "id": "15b4f1ad",
   "metadata": {},
   "source": [
    "# Read multiple line"
   ]
  },
  {
   "cell_type": "code",
   "execution_count": 7,
   "id": "d8bf5498",
   "metadata": {},
   "outputs": [
    {
     "name": "stdout",
     "output_type": "stream",
     "text": [
      "This is line number 0\n",
      "\n",
      "This is line number 1\n",
      "\n",
      "This is line number 2\n",
      "\n"
     ]
    }
   ],
   "source": [
    "fh=open(\"demo.txt\",\"r\")\n",
    "print(fh.readline())\n",
    "print(fh.readline())\n",
    "print(fh.readline())\n",
    "\n",
    "fh.close()"
   ]
  },
  {
   "cell_type": "code",
   "execution_count": 8,
   "id": "409fc807",
   "metadata": {},
   "outputs": [
    {
     "name": "stdout",
     "output_type": "stream",
     "text": [
      "This\n",
      " is line number 0\n",
      "\n",
      "This is line number 1\n",
      "\n"
     ]
    }
   ],
   "source": [
    "fh=open(\"demo.txt\",\"r\")\n",
    "print(fh.readline(4))\n",
    "print(fh.readline())\n",
    "print(fh.readline())\n",
    "\n",
    "fh.close()"
   ]
  },
  {
   "cell_type": "markdown",
   "id": "13eb9f96",
   "metadata": {},
   "source": [
    "# Read All Lines"
   ]
  },
  {
   "cell_type": "code",
   "execution_count": 9,
   "id": "2e07bc8e",
   "metadata": {},
   "outputs": [
    {
     "name": "stdout",
     "output_type": "stream",
     "text": [
      "['This is line number 0\\n', 'This is line number 1\\n', 'This is line number 2\\n', 'This is line number 3\\n', 'This is line number 4\\n', 'This is line number 5\\n', 'This is line number 6\\n', 'This is line number 7\\n', 'This is line number 8\\n', 'This is line number 9\\n', 'This is line number 0\\n', 'This is line number 1\\n', 'This is line number 2\\n', 'This is line number 3\\n', 'This is line number 4\\n', 'This is line number 5\\n', 'This is line number 6\\n', 'This is line number 7\\n', 'This is line number 8\\n', 'This is line number 9\\n', 'Hi!This is line number 0\\n', 'This is line number 1\\n', 'This is line number 2\\n', 'This is line number 3\\n', 'This is line number 4\\n', 'This is line number 5\\n', 'This is line number 6\\n', 'This is line number 7\\n', 'This is line number 8\\n', 'This is line number 9\\n', 'This is line number 0\\n', 'This is line number 1\\n', 'This is line number 2\\n', 'This is line number 3\\n', 'This is line number 4\\n', 'This is line number 5\\n', 'This is line number 6\\n', 'This is line number 7\\n', 'This is line number 8\\n', 'This is line number 9\\n']\n"
     ]
    }
   ],
   "source": [
    "fh=open(\"demo.txt\",\"r\")\n",
    "print(fh.readlines())\n",
    "\n",
    "\n",
    "fh.close()"
   ]
  },
  {
   "cell_type": "code",
   "execution_count": 11,
   "id": "2205abf8",
   "metadata": {},
   "outputs": [
    {
     "name": "stdout",
     "output_type": "stream",
     "text": [
      "This is line number 5\n",
      "\n"
     ]
    }
   ],
   "source": [
    "fh=open(\"demo.txt\",\"r\")\n",
    "print(fh.readlines()[5])\n",
    "\n",
    "\n",
    "fh.close()"
   ]
  },
  {
   "cell_type": "code",
   "execution_count": 12,
   "id": "e6d4194f",
   "metadata": {},
   "outputs": [
    {
     "name": "stdout",
     "output_type": "stream",
     "text": [
      "This is line number 0\n",
      "\n",
      "This is line number 1\n",
      "\n",
      "This is line number 2\n",
      "\n",
      "This is line number 3\n",
      "\n",
      "This is line number 4\n",
      "\n",
      "This is line number 5\n",
      "\n",
      "This is line number 6\n",
      "\n",
      "This is line number 7\n",
      "\n",
      "This is line number 8\n",
      "\n",
      "This is line number 9\n",
      "\n"
     ]
    }
   ],
   "source": [
    "fh=open(\"demo.txt\",\"r\")\n",
    "\n",
    "for line in fh:\n",
    "    print(line)\n",
    "fh.close()"
   ]
  },
  {
   "cell_type": "markdown",
   "id": "df849073",
   "metadata": {},
   "source": [
    "# Number of characters in every line"
   ]
  },
  {
   "cell_type": "code",
   "execution_count": 13,
   "id": "0be4e558",
   "metadata": {},
   "outputs": [
    {
     "name": "stdout",
     "output_type": "stream",
     "text": [
      "22\n",
      "22\n",
      "22\n",
      "22\n",
      "22\n",
      "22\n",
      "22\n",
      "22\n",
      "22\n",
      "22\n"
     ]
    }
   ],
   "source": [
    "fh=open(\"demo.txt\",\"r\")\n",
    "\n",
    "for line in fh:\n",
    "    print(len(line))\n",
    "fh.close()"
   ]
  },
  {
   "cell_type": "markdown",
   "id": "bc57ef4c",
   "metadata": {},
   "source": [
    "# Number of word"
   ]
  },
  {
   "cell_type": "code",
   "execution_count": 16,
   "id": "dc75c695",
   "metadata": {},
   "outputs": [
    {
     "name": "stdout",
     "output_type": "stream",
     "text": [
      "5\n",
      "['This', 'is', 'line', 'number', '0\\n']\n",
      "5\n",
      "['This', 'is', 'line', 'number', '1\\n']\n",
      "5\n",
      "['This', 'is', 'line', 'number', '2\\n']\n",
      "5\n",
      "['This', 'is', 'line', 'number', '3\\n']\n",
      "5\n",
      "['This', 'is', 'line', 'number', '4\\n']\n",
      "5\n",
      "['This', 'is', 'line', 'number', '5\\n']\n",
      "5\n",
      "['This', 'is', 'line', 'number', '6\\n']\n",
      "5\n",
      "['This', 'is', 'line', 'number', '7\\n']\n",
      "5\n",
      "['This', 'is', 'line', 'number', '8\\n']\n",
      "5\n",
      "['This', 'is', 'line', 'number', '9\\n']\n"
     ]
    }
   ],
   "source": [
    "fh=open(\"demo.txt\",\"r\")\n",
    "\n",
    "for line in fh:\n",
    "    print(len(line.split(\" \")))\n",
    "    print(line.split(\" \"))\n",
    "fh.close()"
   ]
  },
  {
   "cell_type": "markdown",
   "id": "8af9da66",
   "metadata": {},
   "source": [
    "# Short form"
   ]
  },
  {
   "cell_type": "code",
   "execution_count": null,
   "id": "e5aa4dd7",
   "metadata": {},
   "outputs": [],
   "source": [
    "with open(\"demo.txt\",'r')"
   ]
  }
 ],
 "metadata": {
  "kernelspec": {
   "display_name": "Python 3 (ipykernel)",
   "language": "python",
   "name": "python3"
  },
  "language_info": {
   "codemirror_mode": {
    "name": "ipython",
    "version": 3
   },
   "file_extension": ".py",
   "mimetype": "text/x-python",
   "name": "python",
   "nbconvert_exporter": "python",
   "pygments_lexer": "ipython3",
   "version": "3.11.5"
  }
 },
 "nbformat": 4,
 "nbformat_minor": 5
}
