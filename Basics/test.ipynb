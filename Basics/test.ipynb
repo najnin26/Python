{
 "cells": [
  {
   "cell_type": "markdown",
   "id": "52c32405",
   "metadata": {},
   "source": [
    "#  Create a Text File and Write in It Using Python"
   ]
  },
  {
   "cell_type": "code",
   "execution_count": 1,
   "id": "d0c27924",
   "metadata": {},
   "outputs": [],
   "source": [
    "fh=open(\"demo.txt\",\"w\")\n",
    "fh.write(\"Hi!\")\n",
    "fh.close()"
   ]
  },
  {
   "cell_type": "code",
   "execution_count": null,
   "id": "dfd8e56c",
   "metadata": {},
   "outputs": [],
   "source": [
    "fh=open(\"demo.txt\",\"w\")\n",
    "for i in range(n):\n",
    "    \n",
    "fh.close()"
   ]
  },
  {
   "cell_type": "code",
   "execution_count": null,
   "id": "8095b2a9",
   "metadata": {},
   "outputs": [],
   "source": []
  }
 ],
 "metadata": {
  "kernelspec": {
   "display_name": "Python 3 (ipykernel)",
   "language": "python",
   "name": "python3"
  },
  "language_info": {
   "codemirror_mode": {
    "name": "ipython",
    "version": 3
   },
   "file_extension": ".py",
   "mimetype": "text/x-python",
   "name": "python",
   "nbconvert_exporter": "python",
   "pygments_lexer": "ipython3",
   "version": "3.11.5"
  }
 },
 "nbformat": 4,
 "nbformat_minor": 5
}
