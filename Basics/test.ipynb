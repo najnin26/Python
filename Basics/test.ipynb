{
 "cells": [
  {
   "cell_type": "markdown",
   "id": "233b384b",
   "metadata": {},
   "source": [
    "#  Create a Text File and Write in It Using Python"
   ]
  },
  {
   "cell_type": "code",
   "execution_count": 5,
   "id": "d0c27924",
   "metadata": {},
   "outputs": [],
   "source": [
    "fh=open(\"demo.txt\",\"a\")\n",
    "fh.write(\"Hi!\")\n",
    "fh.close()"
   ]
  },
  {
   "cell_type": "code",
   "execution_count": 6,
   "id": "dfd8e56c",
   "metadata": {},
   "outputs": [],
   "source": [
    "fh=open(\"demo.txt\",\"a\")\n",
    "for i in range(10):\n",
    "    fh.write(\"This is line number %d\\n\"%i)\n",
    "fh.close()"
   ]
  },
  {
   "cell_type": "markdown",
   "id": "c5f7a41a",
   "metadata": {},
   "source": [
    "# Use try-finally"
   ]
  },
  {
   "cell_type": "code",
   "execution_count": 8,
   "id": "8095b2a9",
   "metadata": {},
   "outputs": [],
   "source": [
    "fh=open(\"demo.txt\",\"a\")\n",
    "try:\n",
    "    for i in range(10):\n",
    "        fh.write(\"This is line number %d\\n\"%i)\n",
    "finally:\n",
    "    fh.close()"
   ]
  },
  {
   "cell_type": "markdown",
   "id": "119d56f4",
   "metadata": {},
   "source": [
    "# Short form"
   ]
  },
  {
   "cell_type": "code",
   "execution_count": 10,
   "id": "20610d80",
   "metadata": {},
   "outputs": [],
   "source": [
    "with open(\"demo1.txt\",\"w\") as fh:\n",
    "    for i in range(10):\n",
    "        fh.write(\"This is line number %d\\n\"%(i+1))\n"
   ]
  },
  {
   "cell_type": "markdown",
   "id": "e01b638b",
   "metadata": {},
   "source": [
    "# Reading Files in Python"
   ]
  },
  {
   "cell_type": "code",
   "execution_count": 3,
   "id": "c6079cde",
   "metadata": {},
   "outputs": [
    {
     "name": "stdout",
     "output_type": "stream",
     "text": [
      "This is line number 0\n",
      "This is line number 1\n",
      "This is line number 2\n",
      "This is line number 3\n",
      "This is line number 4\n",
      "This is line number 5\n",
      "This is line number 6\n",
      "This is line number 7\n",
      "This is line number 8\n",
      "This is line number 9\n",
      "This is line number 0\n",
      "This is line number 1\n",
      "This is line number 2\n",
      "This is line number 3\n",
      "This is line number 4\n",
      "This is line number 5\n",
      "This is line number 6\n",
      "This is line number 7\n",
      "This is line number 8\n",
      "This is line number 9\n",
      "Hi!This is line number 0\n",
      "This is line number 1\n",
      "This is line number 2\n",
      "This is line number 3\n",
      "This is line number 4\n",
      "This is line number 5\n",
      "This is line number 6\n",
      "This is line number 7\n",
      "This is line number 8\n",
      "This is line number 9\n",
      "This is line number 0\n",
      "This is line number 1\n",
      "This is line number 2\n",
      "This is line number 3\n",
      "This is line number 4\n",
      "This is line number 5\n",
      "This is line number 6\n",
      "This is line number 7\n",
      "This is line number 8\n",
      "This is line number 9\n",
      "\n"
     ]
    }
   ],
   "source": [
    "fh=open(\"demo.txt\",\"r\")\n",
    "print(fh.read())\n",
    "\n",
    "fh.close()"
   ]
  },
  {
   "cell_type": "markdown",
   "id": "00b3f55c",
   "metadata": {},
   "source": [
    "# Read first few characters"
   ]
  },
  {
   "cell_type": "code",
   "execution_count": 4,
   "id": "0e4e9839",
   "metadata": {},
   "outputs": [
    {
     "name": "stdout",
     "output_type": "stream",
     "text": [
      "This\n"
     ]
    }
   ],
   "source": [
    "fh=open(\"demo.txt\",\"r\")\n",
    "print(fh.read(4))\n",
    "\n",
    "fh.close()"
   ]
  },
  {
   "cell_type": "markdown",
   "id": "b1ff70c5",
   "metadata": {},
   "source": [
    "# Read first line"
   ]
  },
  {
   "cell_type": "code",
   "execution_count": 5,
   "id": "9260275f",
   "metadata": {},
   "outputs": [
    {
     "name": "stdout",
     "output_type": "stream",
     "text": [
      "This is line number 0\n",
      "\n"
     ]
    }
   ],
   "source": [
    "fh=open(\"demo.txt\",\"r\")\n",
    "print(fh.readline())\n",
    "\n",
    "fh.close()"
   ]
  },
  {
   "cell_type": "markdown",
   "id": "c495ba68",
   "metadata": {},
   "source": [
    "# Read multiple line"
   ]
  },
  {
   "cell_type": "code",
   "execution_count": 7,
   "id": "d85605d6",
   "metadata": {},
   "outputs": [
    {
     "name": "stdout",
     "output_type": "stream",
     "text": [
      "This is line number 0\n",
      "\n",
      "This is line number 1\n",
      "\n",
      "This is line number 2\n",
      "\n"
     ]
    }
   ],
   "source": [
    "fh=open(\"demo.txt\",\"r\")\n",
    "print(fh.readline())\n",
    "print(fh.readline())\n",
    "print(fh.readline())\n",
    "\n",
    "fh.close()"
   ]
  },
  {
   "cell_type": "code",
   "execution_count": 8,
   "id": "339c51ab",
   "metadata": {},
   "outputs": [
    {
     "name": "stdout",
     "output_type": "stream",
     "text": [
      "This\n",
      " is line number 0\n",
      "\n",
      "This is line number 1\n",
      "\n"
     ]
    }
   ],
   "source": [
    "fh=open(\"demo.txt\",\"r\")\n",
    "print(fh.readline(4))\n",
    "print(fh.readline())\n",
    "print(fh.readline())\n",
    "\n",
    "fh.close()"
   ]
  },
  {
   "cell_type": "markdown",
   "id": "0929e733",
   "metadata": {},
   "source": [
    "# Read All Lines"
   ]
  },
  {
   "cell_type": "code",
   "execution_count": 9,
   "id": "0887cc97",
   "metadata": {},
   "outputs": [
    {
     "name": "stdout",
     "output_type": "stream",
     "text": [
      "['This is line number 0\\n', 'This is line number 1\\n', 'This is line number 2\\n', 'This is line number 3\\n', 'This is line number 4\\n', 'This is line number 5\\n', 'This is line number 6\\n', 'This is line number 7\\n', 'This is line number 8\\n', 'This is line number 9\\n', 'This is line number 0\\n', 'This is line number 1\\n', 'This is line number 2\\n', 'This is line number 3\\n', 'This is line number 4\\n', 'This is line number 5\\n', 'This is line number 6\\n', 'This is line number 7\\n', 'This is line number 8\\n', 'This is line number 9\\n', 'Hi!This is line number 0\\n', 'This is line number 1\\n', 'This is line number 2\\n', 'This is line number 3\\n', 'This is line number 4\\n', 'This is line number 5\\n', 'This is line number 6\\n', 'This is line number 7\\n', 'This is line number 8\\n', 'This is line number 9\\n', 'This is line number 0\\n', 'This is line number 1\\n', 'This is line number 2\\n', 'This is line number 3\\n', 'This is line number 4\\n', 'This is line number 5\\n', 'This is line number 6\\n', 'This is line number 7\\n', 'This is line number 8\\n', 'This is line number 9\\n']\n"
     ]
    }
   ],
   "source": [
    "fh=open(\"demo.txt\",\"r\")\n",
    "print(fh.readlines())\n",
    "\n",
    "\n",
    "fh.close()"
   ]
  },
  {
   "cell_type": "code",
   "execution_count": 11,
   "id": "212ecd50",
   "metadata": {},
   "outputs": [
    {
     "name": "stdout",
     "output_type": "stream",
     "text": [
      "This is line number 5\n",
      "\n"
     ]
    }
   ],
   "source": [
    "fh=open(\"demo.txt\",\"r\")\n",
    "print(fh.readlines()[5])\n",
    "\n",
    "\n",
    "fh.close()"
   ]
  },
  {
   "cell_type": "code",
   "execution_count": 12,
   "id": "f13c2f35",
   "metadata": {},
   "outputs": [
    {
     "name": "stdout",
     "output_type": "stream",
     "text": [
      "This is line number 0\n",
      "\n",
      "This is line number 1\n",
      "\n",
      "This is line number 2\n",
      "\n",
      "This is line number 3\n",
      "\n",
      "This is line number 4\n",
      "\n",
      "This is line number 5\n",
      "\n",
      "This is line number 6\n",
      "\n",
      "This is line number 7\n",
      "\n",
      "This is line number 8\n",
      "\n",
      "This is line number 9\n",
      "\n"
     ]
    }
   ],
   "source": [
    "fh=open(\"demo.txt\",\"r\")\n",
    "\n",
    "for line in fh:\n",
    "    print(line)\n",
    "fh.close()"
   ]
  },
  {
   "cell_type": "markdown",
   "id": "3b024b7d",
   "metadata": {},
   "source": [
    "# Number of characters in every line"
   ]
  },
  {
   "cell_type": "code",
   "execution_count": 13,
   "id": "ce436696",
   "metadata": {},
   "outputs": [
    {
     "name": "stdout",
     "output_type": "stream",
     "text": [
      "22\n",
      "22\n",
      "22\n",
      "22\n",
      "22\n",
      "22\n",
      "22\n",
      "22\n",
      "22\n",
      "22\n"
     ]
    }
   ],
   "source": [
    "fh=open(\"demo.txt\",\"r\")\n",
    "\n",
    "for line in fh:\n",
    "    print(len(line))\n",
    "fh.close()"
   ]
  },
  {
   "cell_type": "markdown",
   "id": "13a57cb3",
   "metadata": {},
   "source": [
    "# Number of word"
   ]
  },
  {
   "cell_type": "code",
   "execution_count": null,
   "id": "41ab1fa1",
   "metadata": {},
   "outputs": [],
   "source": [
    "fh=open(\"demo.txt\",\"r\")\n",
    "\n",
    "for line in fh:\n",
    "    print(line.split(\"\"))\n",
    "fh.close()"
   ]
  }
 ],
 "metadata": {
  "kernelspec": {
   "display_name": "Python 3 (ipykernel)",
   "language": "python",
   "name": "python3"
  },
  "language_info": {
   "codemirror_mode": {
    "name": "ipython",
    "version": 3
   },
   "file_extension": ".py",
   "mimetype": "text/x-python",
   "name": "python",
   "nbconvert_exporter": "python",
   "pygments_lexer": "ipython3",
   "version": "3.11.5"
  }
 },
 "nbformat": 4,
 "nbformat_minor": 5
}
