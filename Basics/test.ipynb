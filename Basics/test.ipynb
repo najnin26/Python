{
 "cells": [
  {
   "cell_type": "markdown",
   "id": "7745aacc",
   "metadata": {},
   "source": [
    "#  Create a Text File and Write in It Using Python"
   ]
  },
  {
   "cell_type": "code",
   "execution_count": 5,
   "id": "d0c27924",
   "metadata": {},
   "outputs": [],
   "source": [
    "fh=open(\"demo.txt\",\"a\")\n",
    "fh.write(\"Hi!\")\n",
    "fh.close()"
   ]
  },
  {
   "cell_type": "code",
   "execution_count": 6,
   "id": "dfd8e56c",
   "metadata": {},
   "outputs": [],
   "source": [
    "fh=open(\"demo.txt\",\"a\")\n",
    "for i in range(10):\n",
    "    fh.write(\"This is line number %d\\n\"%i)\n",
    "fh.close()"
   ]
  },
  {
   "cell_type": "markdown",
   "id": "4ceacd12",
   "metadata": {},
   "source": [
    "# Use try-finally"
   ]
  },
  {
   "cell_type": "code",
   "execution_count": 8,
   "id": "8095b2a9",
   "metadata": {},
   "outputs": [],
   "source": [
    "fh=open(\"demo.txt\",\"a\")\n",
    "try:\n",
    "    for i in range(10):\n",
    "        fh.write(\"This is line number %d\\n\"%i)\n",
    "finally:\n",
    "    fh.close()"
   ]
  },
  {
   "cell_type": "markdown",
   "id": "cd9387eb",
   "metadata": {},
   "source": [
    "# Short form"
   ]
  },
  {
   "cell_type": "code",
   "execution_count": null,
   "id": "81fab14b",
   "metadata": {},
   "outputs": [],
   "source": [
    "with open(\"demo.txt\",\"a\") as fh:\n",
    "    for i in range(10):\n",
    "        fh.write(\"This is line number %d\\n\"%i)\n",
    "        fh.close()"
   ]
  }
 ],
 "metadata": {
  "kernelspec": {
   "display_name": "Python 3 (ipykernel)",
   "language": "python",
   "name": "python3"
  },
  "language_info": {
   "codemirror_mode": {
    "name": "ipython",
    "version": 3
   },
   "file_extension": ".py",
   "mimetype": "text/x-python",
   "name": "python",
   "nbconvert_exporter": "python",
   "pygments_lexer": "ipython3",
   "version": "3.11.5"
  }
 },
 "nbformat": 4,
 "nbformat_minor": 5
}
