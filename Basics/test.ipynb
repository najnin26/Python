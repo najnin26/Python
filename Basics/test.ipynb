{
 "cells": [
  {
   "cell_type": "markdown",
   "id": "233b384b",
   "metadata": {},
   "source": [
    "#  Create a Text File and Write in It Using Python"
   ]
  },
  {
   "cell_type": "code",
   "execution_count": 5,
   "id": "d0c27924",
   "metadata": {},
   "outputs": [],
   "source": [
    "fh=open(\"demo.txt\",\"a\")\n",
    "fh.write(\"Hi!\")\n",
    "fh.close()"
   ]
  },
  {
   "cell_type": "code",
   "execution_count": 6,
   "id": "dfd8e56c",
   "metadata": {},
   "outputs": [],
   "source": [
    "fh=open(\"demo.txt\",\"a\")\n",
    "for i in range(10):\n",
    "    fh.write(\"This is line number %d\\n\"%i)\n",
    "fh.close()"
   ]
  },
  {
   "cell_type": "markdown",
   "id": "c5f7a41a",
   "metadata": {},
   "source": [
    "# Use try-finally"
   ]
  },
  {
   "cell_type": "code",
   "execution_count": 8,
   "id": "8095b2a9",
   "metadata": {},
   "outputs": [],
   "source": [
    "fh=open(\"demo.txt\",\"a\")\n",
    "try:\n",
    "    for i in range(10):\n",
    "        fh.write(\"This is line number %d\\n\"%i)\n",
    "finally:\n",
    "    fh.close()"
   ]
  },
  {
   "cell_type": "markdown",
   "id": "119d56f4",
   "metadata": {},
   "source": [
    "# Short form"
   ]
  },
  {
   "cell_type": "code",
   "execution_count": 10,
   "id": "20610d80",
   "metadata": {},
   "outputs": [],
   "source": [
    "with open(\"demo1.txt\",\"w\") as fh:\n",
    "    for i in range(10):\n",
    "        fh.write(\"This is line number %d\\n\"%(i+1))\n"
   ]
  },
  {
   "cell_type": "markdown",
   "id": "05238ca1",
   "metadata": {},
   "source": [
    "# Reading Files in Python"
   ]
  },
  {
   "cell_type": "code",
   "execution_count": 3,
   "id": "6dfc9473",
   "metadata": {},
   "outputs": [
    {
     "name": "stdout",
     "output_type": "stream",
     "text": [
      "This is line number 0\n",
      "This is line number 1\n",
      "This is line number 2\n",
      "This is line number 3\n",
      "This is line number 4\n",
      "This is line number 5\n",
      "This is line number 6\n",
      "This is line number 7\n",
      "This is line number 8\n",
      "This is line number 9\n",
      "This is line number 0\n",
      "This is line number 1\n",
      "This is line number 2\n",
      "This is line number 3\n",
      "This is line number 4\n",
      "This is line number 5\n",
      "This is line number 6\n",
      "This is line number 7\n",
      "This is line number 8\n",
      "This is line number 9\n",
      "Hi!This is line number 0\n",
      "This is line number 1\n",
      "This is line number 2\n",
      "This is line number 3\n",
      "This is line number 4\n",
      "This is line number 5\n",
      "This is line number 6\n",
      "This is line number 7\n",
      "This is line number 8\n",
      "This is line number 9\n",
      "This is line number 0\n",
      "This is line number 1\n",
      "This is line number 2\n",
      "This is line number 3\n",
      "This is line number 4\n",
      "This is line number 5\n",
      "This is line number 6\n",
      "This is line number 7\n",
      "This is line number 8\n",
      "This is line number 9\n",
      "\n"
     ]
    }
   ],
   "source": [
    "fh=open(\"demo.txt\",\"r\")\n",
    "print(fh.read())\n",
    "\n",
    "fh.close()"
   ]
  },
  {
   "cell_type": "markdown",
   "id": "90d5bedf",
   "metadata": {},
   "source": [
    "# Read first few characters"
   ]
  },
  {
   "cell_type": "code",
   "execution_count": 4,
   "id": "40657e94",
   "metadata": {},
   "outputs": [
    {
     "name": "stdout",
     "output_type": "stream",
     "text": [
      "This\n"
     ]
    }
   ],
   "source": [
    "fh=open(\"demo.txt\",\"r\")\n",
    "print(fh.read(4))\n",
    "\n",
    "fh.close()"
   ]
  },
  {
   "cell_type": "markdown",
   "id": "2d70fcb8",
   "metadata": {},
   "source": [
    "# Read first line"
   ]
  },
  {
   "cell_type": "code",
   "execution_count": 5,
   "id": "d98e3771",
   "metadata": {},
   "outputs": [
    {
     "name": "stdout",
     "output_type": "stream",
     "text": [
      "This is line number 0\n",
      "\n"
     ]
    }
   ],
   "source": [
    "fh=open(\"demo.txt\",\"r\")\n",
    "print(fh.readline())\n",
    "\n",
    "fh.close()"
   ]
  },
  {
   "cell_type": "markdown",
   "id": "60d9d5ef",
   "metadata": {},
   "source": [
    "# Read multiple line"
   ]
  },
  {
   "cell_type": "code",
   "execution_count": 7,
   "id": "85b60af1",
   "metadata": {},
   "outputs": [
    {
     "name": "stdout",
     "output_type": "stream",
     "text": [
      "This is line number 0\n",
      "\n",
      "This is line number 1\n",
      "\n",
      "This is line number 2\n",
      "\n"
     ]
    }
   ],
   "source": [
    "fh=open(\"demo.txt\",\"r\")\n",
    "print(fh.readline())\n",
    "print(fh.readline())\n",
    "print(fh.readline())\n",
    "\n",
    "fh.close()"
   ]
  },
  {
   "cell_type": "code",
   "execution_count": null,
   "id": "66e8dcc5",
   "metadata": {},
   "outputs": [],
   "source": []
  }
 ],
 "metadata": {
  "kernelspec": {
   "display_name": "Python 3 (ipykernel)",
   "language": "python",
   "name": "python3"
  },
  "language_info": {
   "codemirror_mode": {
    "name": "ipython",
    "version": 3
   },
   "file_extension": ".py",
   "mimetype": "text/x-python",
   "name": "python",
   "nbconvert_exporter": "python",
   "pygments_lexer": "ipython3",
   "version": "3.11.5"
  }
 },
 "nbformat": 4,
 "nbformat_minor": 5
}
