{
 "cells": [
  {
   "cell_type": "code",
   "execution_count": 13,
   "id": "dbc6080e",
   "metadata": {},
   "outputs": [
    {
     "name": "stdout",
     "output_type": "stream",
     "text": [
      "900\n",
      "red\n"
     ]
    }
   ],
   "source": [
    "class car:\n",
    "    def __init__(self,speed,color):\n",
    "        self.__speed=speed\n",
    "        self.__color=color\n",
    "        \n",
    "    def set_speed(self,value):\n",
    "        self.__speed=value\n",
    "        \n",
    "    def get_speed(self):\n",
    "        return self.__speed\n",
    "    \n",
    "    def set_color(self,value):\n",
    "        self.__color=value\n",
    "        \n",
    "    def get_color(self):\n",
    "        return self.__color\n",
    "          \n",
    "        \n",
    "ford=car(200,'red')\n",
    "honda=car(300,'blue')\n",
    "audi=car(500,'black')\n",
    "\n",
    "ford.set_speed(900)\n",
    "ford.__speed=100\n",
    "print(ford.get_speed())\n",
    "print(ford.get_color())"
   ]
  },
  {
   "cell_type": "code",
   "execution_count": 8,
   "id": "a3cc212d",
   "metadata": {},
   "outputs": [],
   "source": [
    "ford.speed=400\n",
    "ford.color='green'"
   ]
  },
  {
   "cell_type": "code",
   "execution_count": 9,
   "id": "4804a7b2",
   "metadata": {},
   "outputs": [
    {
     "name": "stdout",
     "output_type": "stream",
     "text": [
      "400\n",
      "green\n"
     ]
    }
   ],
   "source": [
    "print(ford.speed)\n",
    "print(ford.color)"
   ]
  },
  {
   "cell_type": "code",
   "execution_count": 19,
   "id": "db80ff16",
   "metadata": {},
   "outputs": [
    {
     "name": "stdout",
     "output_type": "stream",
     "text": [
      "20\n",
      "40\n",
      "The __init__ is called\n",
      "30\n",
      "10\n",
      "The __init__ is called\n",
      "Area1  800\n",
      "Area2  300\n"
     ]
    }
   ],
   "source": [
    "class Rectangle:\n",
    "     def __init__(self,height,width):\n",
    "        self.__height=height\n",
    "        self.__width=width\n",
    "        \n",
    "    def set_height(self,value):\n",
    "        self.__height=value\n",
    "        \n",
    "    def get_height(self):\n",
    "        return self.__height\n",
    "    \n",
    "    def set_width(self,value):\n",
    "        self.__width=value\n",
    "        \n",
    "    def get_width(self):\n",
    "        return self.__width\n",
    "    \n",
    "    def area(self):\n",
    "        return self.__height*self.__width\n",
    "\n",
    "rect1=Rectangle(20,40)\n",
    "rect2=Rectangle(30,10)\n",
    "\n",
    "\n",
    "# rect1.height=20\n",
    "# rect2.height=30\n",
    "\n",
    "\n",
    "# rect1.width=40\n",
    "# rect2.width=10\n",
    "\n",
    "\n",
    "print(\"Area1 \",rect1.height*rect1.width)\n",
    "print(\"Area2 \",rect2.height*rect2.width)"
   ]
  },
  {
   "cell_type": "code",
   "execution_count": null,
   "id": "e54b2246",
   "metadata": {},
   "outputs": [],
   "source": []
  }
 ],
 "metadata": {
  "kernelspec": {
   "display_name": "Python 3 (ipykernel)",
   "language": "python",
   "name": "python3"
  },
  "language_info": {
   "codemirror_mode": {
    "name": "ipython",
    "version": 3
   },
   "file_extension": ".py",
   "mimetype": "text/x-python",
   "name": "python",
   "nbconvert_exporter": "python",
   "pygments_lexer": "ipython3",
   "version": "3.11.5"
  }
 },
 "nbformat": 4,
 "nbformat_minor": 5
}
